{
 "cells": [
  {
   "cell_type": "code",
   "execution_count": 30,
   "metadata": {
    "collapsed": false
   },
   "outputs": [
    {
     "name": "stdout",
     "output_type": "stream",
     "text": [
      "请输入符号：*\n",
      "请输入行数5\n",
      "        * ***** *\n",
      "      * * ***** * *\n",
      "    * * * ***** * * *\n",
      "  * * * * ***** * * * *\n",
      "* * * * * ***** * * * * *\n"
     ]
    }
   ],
   "source": [
    "#1\n",
    "def A(s,n):\n",
    "    for i in range(1, n+1):\n",
    "        print(' '*2*(n-i)+ s + (' ' + s)*(i-1),end=\"\")\n",
    "        print(' '+s*5+' ',end=\"\")\n",
    "        print(' '*(n-2*i-3)+ s + (' ' + s)*(i-1),end=\"\")\n",
    "        print()\n",
    "s = input('请输入符号：')\n",
    "n = int(input('请输入行数'))\n",
    "A(s,n)"
   ]
  },
  {
   "cell_type": "code",
   "execution_count": 33,
   "metadata": {
    "collapsed": false
   },
   "outputs": [
    {
     "name": "stdout",
     "output_type": "stream",
     "text": [
      "1\n"
     ]
    }
   ],
   "source": [
    "#2\n",
    "def Ackermann(m,n):\n",
    "    if m==0:\n",
    "        A=n+1\n",
    "    elif m>0 and n==0:\n",
    "        while m!=0:\n",
    "            m-=1\n",
    "            n=1  \n",
    "        print(2)\n",
    "    elif m>0 and n>0:\n",
    "        while n!=0:\n",
    "            n-=1\n",
    "            while m!=0:\n",
    "                m-=1 \n",
    "        print(n+1)\n",
    "Ackermann(3,4)\n"
   ]
  },
  {
   "cell_type": "code",
   "execution_count": 1,
   "metadata": {
    "collapsed": false
   },
   "outputs": [
    {
     "name": "stdout",
     "output_type": "stream",
     "text": [
      "请输入题数15\n",
      "请输入最小范围3\n",
      "请输入最大范围15\n",
      "25 - 5\n",
      "14 / 11\n",
      "4 * 15\n",
      "14 / 3\n",
      "10 - 20\n",
      "10 * 6\n",
      "13 + 13\n",
      "22 / 11\n",
      "18 * 7\n",
      "19 / 17\n",
      "16 + 10\n",
      "15 * 8\n",
      "21 * 3\n",
      "4 - 7\n",
      "22 + 7\n"
     ]
    }
   ],
   "source": [
    "#3\n",
    "#3.a\n",
    "import random\n",
    "def B(n,a,b):\n",
    "    s=['+','-','*','/']\n",
    "    i=0\n",
    "    while i<n:\n",
    "        num1=random.randint(a,b)\n",
    "        num2=random.randint(a,b)\n",
    "        s1=random.choice(s)\n",
    "        i+=1\n",
    "        print(num1,s1,num2)\n",
    "#3.b\n",
    "def C():\n",
    "    answer1=[]\n",
    "    sum=0\n",
    "    i=0\n",
    "    answer1=answers.split()\n",
    "    while i<n:\n",
    "        if s1=='+':\n",
    "            num1=a+b\n",
    "           \n",
    "            for answer in answrs:\n",
    "                answer==num1\n",
    "                sum+=5\n",
    "        elif s1=='-':\n",
    "            num2=a-b\n",
    "           \n",
    "            for answer in answrs:\n",
    "                answer==num2\n",
    "                sum+=5\n",
    "        elif s1=='*':\n",
    "            num3=a*b\n",
    "           \n",
    "            for answer in answrs:\n",
    "                answer==num3\n",
    "                sum+=10\n",
    "        else:\n",
    "            num4=a/b\n",
    "           \n",
    "            for answer in answrs:\n",
    "                answer==num4\n",
    "                sum+=10\n",
    "#3.c\n",
    "def D():\n",
    "    while i<n:\n",
    "        f=str(input(\"请输入题目\"))\n",
    "        a=f[0]\n",
    "        s2=f[1]\n",
    "        b=f[2]\n",
    "        f2=[]\n",
    "        sum=0\n",
    "        if s2=='+':\n",
    "            num1=a+b\n",
    "            f2.append(num1)\n",
    "            sum+=5\n",
    "        elif s2=='-':\n",
    "            num2=a-b\n",
    "            f2.append(num2)\n",
    "            sum+=5\n",
    "        elif s2=='*':\n",
    "            num3=a*b\n",
    "            f2.append(num3)\n",
    "            sum+=10\n",
    "        else:\n",
    "            num4=a/b\n",
    "            f2.append(num4)\n",
    "            sum+=10\n",
    "        return sum\n",
    "n = int(input('请输入题数'))\n",
    "a = int(input('请输入最小范围'))\n",
    "b = int(input('请输入最大范围'))\n",
    "answers=int(input('请输入一口气输入所有答案，用逗号分隔'))\n",
    "print(\"最终得分\",sum)\n",
    "B(15,3,25)"
   ]
  },
  {
   "cell_type": "code",
   "execution_count": 26,
   "metadata": {
    "collapsed": false
   },
   "outputs": [
    {
     "ename": "SyntaxError",
     "evalue": "invalid syntax (<ipython-input-26-83be79c59cef>, line 4)",
     "output_type": "error",
     "traceback": [
      "\u001b[1;36m  File \u001b[1;32m\"<ipython-input-26-83be79c59cef>\"\u001b[1;36m, line \u001b[1;32m4\u001b[0m\n\u001b[1;33m    with open (r'C:\\Users\\Administrator\\Downloads\\成语大全(含成语解释)_utf8.txt, encoding = 'utf-8') as f:\u001b[0m\n\u001b[1;37m                                                                                      ^\u001b[0m\n\u001b[1;31mSyntaxError\u001b[0m\u001b[1;31m:\u001b[0m invalid syntax\n"
     ]
    }
   ],
   "source": [
    "#4\n",
    "from collections import Counter\n",
    "def E():\n",
    "    with open (r'C:\\Users\\Administrator\\Downloads\\成语大全(含成语解释)_utf8.txt, encoding = 'utf-8') as f:\n",
    "        ch_table=[ch for ch in f ]\n",
    "        A=[]\n",
    "            while len(ch_table)<4:\n",
    "                A.append(ch)\n",
    "    with open (r'C:\\Users\\Administrator\\Downloads\\test_re_gbk.txt, encoding = 'utf-8') as fh:\n",
    "        for line in fh:\n",
    "            words = [word.split('/')[0] for word in line.split()]\n",
    "               for word in words:\n",
    "                   if word in A:\n",
    "                       freq_dict[word]+=1\n",
    "                   else:\n",
    "                       freq_dict[word]=1\n",
    "freq_dict={}\n",
    "sdict = sorted(freq_dict.items(), key = lambda item:item[1], reverse = True)\n",
    "slist = sorted_dict[:20]\n",
    "max_list = []\n",
    "for item in slist:\n",
    "    list_item = list(item)\n",
    "    max_list.append(list_item)\n",
    "max_dict = {}\n",
    "for item in max_list:\n",
    "    for key in freq_dict.keys():\n",
    "        if item[0] == key:\n",
    "            sdict[key] = freq_dict[key]\n",
    "print(sdict)"
   ]
  },
  {
   "cell_type": "code",
   "execution_count": null,
   "metadata": {
    "collapsed": false
   },
   "outputs": [],
   "source": []
  },
  {
   "cell_type": "code",
   "execution_count": null,
   "metadata": {
    "collapsed": true
   },
   "outputs": [],
   "source": []
  }
 ],
 "metadata": {
  "kernelspec": {
   "display_name": "Python 3",
   "language": "python",
   "name": "python3"
  },
  "language_info": {
   "codemirror_mode": {
    "name": "ipython",
    "version": 3
   },
   "file_extension": ".py",
   "mimetype": "text/x-python",
   "name": "python",
   "nbconvert_exporter": "python",
   "pygments_lexer": "ipython3",
   "version": "3.4.3"
  }
 },
 "nbformat": 4,
 "nbformat_minor": 0
}
